{
  "nbformat": 4,
  "nbformat_minor": 0,
  "metadata": {
    "colab": {
      "provenance": []
    },
    "kernelspec": {
      "name": "python3",
      "display_name": "Python 3"
    },
    "language_info": {
      "name": "python"
    }
  },
  "cells": [
    {
      "cell_type": "markdown",
      "source": [
        "Q1.skfjsfuiwfafkjvbdfvbfuvnerjvnerkv\n",
        "   -Shaikh Abdulla Shaikh\n",
        "   \n"
      ],
      "metadata": {
        "id": "KxZr6novpcsk"
      }
    },
    {
      "cell_type": "code",
      "execution_count": null,
      "metadata": {
        "id": "HVwSOoVOnsJ4"
      },
      "outputs": [],
      "source": []
    },
    {
      "cell_type": "markdown",
      "source": [],
      "metadata": {
        "id": "XIibMVV-pbX7"
      }
    }
  ]
}